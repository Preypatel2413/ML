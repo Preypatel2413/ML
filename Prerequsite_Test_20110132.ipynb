{
  "nbformat": 4,
  "nbformat_minor": 0,
  "metadata": {
    "colab": {
      "provenance": []
    },
    "kernelspec": {
      "name": "python3",
      "display_name": "Python 3"
    },
    "language_info": {
      "name": "python"
    }
  },
  "cells": [
    {
      "cell_type": "markdown",
      "source": [
        "**1.** How many multiplications and additions do you need to perform a matrix multiplication between a (n, k) and (k, m) matrix? Explain.\n",
        "________________________________\n",
        "**Answer :**\n",
        "\n",
        "If there are two matricies A and B of dimensions (n,k) and (k,m) then the resulting matrix multiplication A × B will have dimensions of (n,m). In resulting matrix each to get each element we need to multiply row of first matrix to column of second matrix. The row of first matrix will have k elemnts and column of second matrix will also have k elements. To multiply row to column we will multiply ith element of row to ith element column of and sum them. So each row to column multiplication will need k multiplications and k-1 additions. Now there are n × m elements in resulting matrix. So the number of multiplications required for A × B is **n × m × k** and the number of additions required is **n×m×(k-1)**."
      ],
      "metadata": {
        "id": "8ZS0K2u6ngWh"
      }
    },
    {
      "cell_type": "markdown",
      "source": [
        "**2.** Write Python code to multiply the above two matrices. Solve using list of lists and then use numpy. Compare the timing of both solutions. Which one is faster? Why?\n",
        "___\n",
        "\n"
      ],
      "metadata": {
        "id": "OjmQbPrSu4F5"
      }
    },
    {
      "cell_type": "code",
      "execution_count": 1,
      "metadata": {
        "colab": {
          "base_uri": "https://localhost:8080/"
        },
        "id": "-pJSOXFBnYk_",
        "outputId": "5f55c5d9-f21c-4082-8878-fd51f218b7d7"
      },
      "outputs": [
        {
          "output_type": "stream",
          "name": "stdout",
          "text": [
            "Average time taken to multiply 20 * 30 matrix to 30 * 40 matrix by normal method is: 0.008485236167907716 and the standard deviation is: 0.0038750214140758493\n",
            "Average time taken to multiply 20 * 30 matrix to 30 * 40 matrix by numpy method is: 8.517026901245118e-05 and the standard deviation is: 5.997675949154976e-05\n"
          ]
        }
      ],
      "source": [
        "import time\n",
        "import random\n",
        "import numpy as np\n",
        "\n",
        "\n",
        "def matmul(A,B):\n",
        "  n=len(A)\n",
        "  k_A=len(A[0])\n",
        "  k_B=len(B)\n",
        "  m=len(B[0])\n",
        "  \n",
        "  if(k_A != k_B):\n",
        "    print(\"Matrix multiplication not possible.\")\n",
        "    return 0\n",
        "\n",
        "  result = [[0 for i in range(m)] for j in range(n)]\n",
        "  for i in range(n):\n",
        "    for j in range(m):\n",
        "      sum=0\n",
        "      for z in range(k_A):\n",
        "        sum += A[i][z]*B[z][j]\n",
        "      \n",
        "      result[i][j] = sum\n",
        "  \n",
        "  return result\n",
        "\n",
        "# x=[[1,2,3],[4,5,6]]\n",
        "# y=[[1,2,3,4],[3,4,5,6],[5,6,7,8]]\n",
        "# print(matmul(x,y))\n",
        "time_matmul=[]\n",
        "time_npmatmul=[]\n",
        "\n",
        "n=20\n",
        "k=30\n",
        "m=40\n",
        "for i in range(100):\n",
        "  X=[[(random.randint(0,1000)) for _ in range(k)] for __ in range(n)]\n",
        "  Y=[[(random.randint(0,1000)) for _ in range(m)] for __ in range(k)]\n",
        "\n",
        "  start_time = time.time()\n",
        "  matmul(X,Y)\n",
        "  end_time = time.time()\n",
        "\n",
        "  time_matmul.append(end_time - start_time)\n",
        "\n",
        "  x=np.array(X)\n",
        "  y=np.array(Y)\n",
        "  start_time = time.time()\n",
        "  np.matmul(x,y)\n",
        "  end_time = time.time()\n",
        "\n",
        "  time_npmatmul.append(end_time - start_time)\n",
        "\n",
        "print(\"Average time taken to multiply\", n ,\"*\",k,\"matrix to\", k,\"*\",m,\"matrix by normal method is:\",sum(time_matmul)/100,\"and the standard deviation is:\",np.std(time_matmul))\n",
        "print(\"Average time taken to multiply\", n ,\"*\",k,\"matrix to\", k,\"*\",m,\"matrix by numpy method is:\",sum(time_npmatmul)/100,\"and the standard deviation is:\",np.std(time_npmatmul))"
      ]
    },
    {
      "cell_type": "markdown",
      "source": [
        "The matrix multiplication with normal method is of O(n * k * m). The numpy matrix multiplications because looping methods of numpy are more optimized and it also uses vectorization methods."
      ],
      "metadata": {
        "id": "8i17SaHWmhAZ"
      }
    },
    {
      "cell_type": "markdown",
      "source": [
        "**3.** Finding the highest element in a list requires one pass of the array. Finding the second highest element requires 2 passes of the the array. Using this method, what is the time complexity of finding the median of the array? Can you suggest a better method? Can you implement both these methods in Python and compare against numpy.median routine in terms of time?\n",
        "___\n",
        "\n",
        "Finding the first highest needs one pass of the array which means that the finding highest needs O(n) time complexity. Finding the second highest needs first highest and one pass of the array which means the time complexity for finding second highest is 2\\*O(n) similarly finding ith highest needs i passes which have i*O(n) complexity. The median of array with length n is (n/2)th highest. Which means to find the median we need n/2 passes of array. So finding median will have O(n * n) complexity. \n",
        "\n",
        "\n",
        "But if we sort the array then we can directly get the median from $(\\frac{n+1}{2})^{th} $  element for odd n and $\\frac{(n/2)^{th} + (n/2 + 1)^{th}}{2}$ for even n. The sorting of an array need O(nlog(n)) time complexity which is better than normal method. \n",
        "\n"
      ],
      "metadata": {
        "id": "y_5qjkUa8Ly9"
      }
    },
    {
      "cell_type": "code",
      "source": [
        "\n",
        "def median(A):\n",
        "  n=len(A)\n",
        "  high=[]\n",
        "  for i in range((n//2)+1):\n",
        "    temp = A[0]\n",
        "    for j in range(len(A)):\n",
        "      if(temp<A[j]):\n",
        "        temp=A[j]\n",
        "    high.append(temp)\n",
        "    A.remove(temp)\n",
        "  \n",
        "  if(n%2==0):\n",
        "    return (high[len(high)-2]+high[len(high)-1])/2\n",
        "  else:\n",
        "    return high[len(high)-1]\n",
        "\n",
        "\n",
        "def better_median(A):\n",
        "  n=len(A)\n",
        "  A.sort()\n",
        "  if(n%2==0):\n",
        "    return (A[n//2]+A[(n//2)-1])/2\n",
        "  else:\n",
        "    return A[n//2]\n",
        "\n",
        "\n",
        "# x=[9,5,4,3,2,1,6,7,8]\n",
        "# y=x.copy()\n",
        "# print(median(x))\n",
        "# print(better_median(y))\n",
        "\n",
        "time_median=[]\n",
        "time_better_median=[]\n",
        "time_np_median=[]\n",
        "num=1000\n",
        "for i in range(100):\n",
        "  X=[(random.randint(0,10000)) for _ in range(num)]\n",
        "  Y=X.copy()\n",
        "\n",
        "  start_time = time.time()\n",
        "  median(X)\n",
        "  end_time = time.time()\n",
        "\n",
        "  time_median.append(end_time - start_time)\n",
        "\n",
        "  start_time = time.time()\n",
        "  better_median(Y)\n",
        "  end_time = time.time()\n",
        "  time_better_median.append(end_time - start_time)\n",
        "\n",
        "  start_time = time.time()\n",
        "  np.median(Y)\n",
        "  end_time = time.time()\n",
        "  time_np_median.append(end_time - start_time)\n",
        "\n",
        "\n",
        "print(\"Average time taken to find median by normal method is:\",sum(time_median)/100,\"and the standard deviation is:\",np.std(time_median))\n",
        "print(\"Average time taken to find median by better method is:\",sum(time_better_median)/100,\"and the standard deviation is:\",np.std(time_better_median))\n",
        "print(\"Average time taken to find median by numpy method is:\",sum(time_np_median)/100,\"and the standard deviation is:\",np.std(time_np_median))"
      ],
      "metadata": {
        "colab": {
          "base_uri": "https://localhost:8080/"
        },
        "id": "-Z3FjCYL85hc",
        "outputId": "3431e0c0-0788-4b2d-c80e-8d3adf6e17e0"
      },
      "execution_count": 2,
      "outputs": [
        {
          "output_type": "stream",
          "name": "stdout",
          "text": [
            "Average time taken to find median by normal method is: 0.030748538970947266 and the standard deviation is: 0.007932257533868505\n",
            "Average time taken to find median by better method is: 0.00013077259063720703 and the standard deviation is: 1.7139775511375674e-05\n",
            "Average time taken to find median by numpy method is: 0.0003184819221496582 and the standard deviation is: 0.00021925027937391836\n"
          ]
        }
      ]
    },
    {
      "cell_type": "markdown",
      "source": [
        "**4.** What is the gradient of the following function with respect to x and y?\n",
        "___\n",
        "\n",
        "$ \\frac{\\partial }{\\partial x} (x^2y + y^3 sin(x)) = 2xy + y^3cos(x)$\n",
        "\n",
        "  \n",
        "$ \\frac{\\partial }{\\partial y} (x^2y + y^3 sin(x)) = x^2 + 3y^2 sin(x)$"
      ],
      "metadata": {
        "id": "WvOHX0QIJVxh"
      }
    },
    {
      "cell_type": "markdown",
      "source": [
        "**5.** Use JAX to confirm the gradient evaluated by your method matches the analytical solution corresponding to a few random values of x and y.\n",
        "______\n"
      ],
      "metadata": {
        "id": "jZcoO-vTX8Kw"
      }
    },
    {
      "cell_type": "code",
      "source": [
        "import jax\n",
        "jnp = jax.numpy\n",
        "import math\n",
        "\n",
        "def fun(x,y):\n",
        "  return ((x**2)*y + (y**3)*jnp.sin(x))\n",
        "\n",
        "def diff_x(x,y):\n",
        "  return (2*x*y + (y**3)*jnp.cos(x))\n",
        "\n",
        "def diff_y(x,y):\n",
        "  return (x**2 + 3*(y**2)*jnp.sin(x))\n",
        "\n",
        "f_x=jax.grad(fun=fun, argnums = (0))\n",
        "f_y=jax.grad(fun=fun, argnums = (1))\n",
        "\n",
        "check_x_fun = []\n",
        "check_x_jax = []\n",
        "check_y_fun = []\n",
        "check_y_jax = []\n",
        "print(\"x,y,f'x,f'x_jax,f'y,f'y_jax\")\n",
        "\n",
        "for i in range(20):\n",
        "  x=np.random.uniform(0,100)\n",
        "  y=np.random.uniform(0,100)\n",
        "\n",
        "  print(x,y,diff_x(x,y),f_x(x,y),diff_y(x,y),f_y(x,y))  \n",
        "  check_x_fun.append(diff_x(x,y))\n",
        "  check_x_jax.append(f_x(x,y))\n",
        "  check_y_fun.append(diff_y(x,y))\n",
        "  check_y_jax.append(f_y(x,y))\n",
        "  \n",
        "\n",
        "if(np.allclose(check_x_fun,check_x_jax)):\n",
        "  print(\"differentiation with respect to x is correct.\")\n",
        "else:\n",
        "  print(\"differentiation with respect to x is not correct.\")\n",
        "\n",
        "if(np.allclose(check_y_fun,check_y_jax)):\n",
        "  print(\"differentiation with respect to y is correct.\")\n",
        "else:\n",
        "  print(\"differentiation with respect to y is not correct.\")"
      ],
      "metadata": {
        "id": "_Mp-pxJHRp1-",
        "colab": {
          "base_uri": "https://localhost:8080/"
        },
        "outputId": "ac31a032-1140-404c-8ed7-bc88cef2d220"
      },
      "execution_count": 3,
      "outputs": [
        {
          "output_type": "stream",
          "name": "stderr",
          "text": [
            "WARNING:jax._src.lib.xla_bridge:No GPU/TPU found, falling back to CPU. (Set TF_CPP_MIN_LOG_LEVEL=0 and rerun for more info.)\n"
          ]
        },
        {
          "output_type": "stream",
          "name": "stdout",
          "text": [
            "x,y,f'x,f'x_jax,f'y,f'y_jax\n",
            "68.95465322465255 32.77874428894708 39287.465 39287.465 4239.9746 4239.9746\n",
            "62.640175408836804 28.61285354222558 26580.828 26580.828 3455.8909 3455.8906\n",
            "50.865170920965774 59.63199433430783 181116.16 181116.16 8608.072 8608.073\n",
            "12.81915598700143 5.791948158717696 336.62137 336.62137 189.50098 189.50098\n",
            "56.15272500303854 86.22369383555082 601121.2 601121.2 -5448.8696 -5448.8696\n",
            "5.445750655764958 23.617210548406288 9074.873 9074.873 -1213.4991 -1213.4991\n",
            "82.28570206143834 69.78182996955663 291108.56 291108.56 15071.25 15071.25\n",
            "47.553081609684654 87.62003338567631 -603338.8 -603338.8 -7323.0693 -7323.0693\n",
            "88.24258549421018 31.148955479597184 34559.562 34559.562 8585.537 8585.538\n",
            "28.201721618727007 38.7081724368068 -55661.23 -55661.23 1121.442 1121.442\n",
            "65.10168616582584 23.36760877552716 -5168.108 -5168.108 5492.162 5492.162\n",
            "92.36470383328773 39.85063185580936 -12081.811 -12081.811 3997.4429 3997.4429\n",
            "44.08810171617639 98.53201777656716 959942.8 959942.8 5019.6064 5019.6064\n",
            "37.76982864889404 9.999138460585744 1752.5742 1752.5743 1447.7537 1447.7537\n",
            "22.642621520587802 88.58010283549537 -548676.75 -548676.75 -13760.574 -13760.572\n",
            "30.901794458947784 91.8110988302553 679525.44 679525.44 -11481.113 -11481.112\n",
            "58.892783829062935 7.024612439046751 585.2712 585.2712 3574.2937 3574.2937\n",
            "72.17266785294946 43.169224084307736 -73934.7 -73934.7 5677.756 5677.756\n",
            "51.39178077855182 0.48044550925353535 49.42959 49.42959 2641.7405 2641.7405\n",
            "35.21289961241989 11.607163545654265 -422.35504 -422.3551 993.61755 993.61755\n",
            "differentiation with respect to x is correct.\n",
            "differentiation with respect to y is correct.\n"
          ]
        }
      ]
    },
    {
      "cell_type": "markdown",
      "source": [
        "**6.** Use sympy to confirm that you obtain the same gradient analytically.\n",
        "____\n"
      ],
      "metadata": {
        "id": "GrRdc3WjX013"
      }
    },
    {
      "cell_type": "code",
      "source": [
        "import sympy as smp\n",
        "x,y = smp.symbols('x y')\n",
        "\n",
        "f=(x*x*y+y*y*y*smp.sin(x))\n",
        "\n",
        "print(smp.diff(f,x))\n",
        "print(smp.diff(f,y))"
      ],
      "metadata": {
        "colab": {
          "base_uri": "https://localhost:8080/"
        },
        "id": "RstnvU7bXECc",
        "outputId": "49f925c4-390d-446c-bc70-2f058b57f686"
      },
      "execution_count": 4,
      "outputs": [
        {
          "output_type": "stream",
          "name": "stdout",
          "text": [
            "2*x*y + y**3*cos(x)\n",
            "x**2 + 3*y**2*sin(x)\n"
          ]
        }
      ]
    },
    {
      "cell_type": "markdown",
      "source": [
        "**7.** Create a Python nested dictionary to represent hierarchical information. We want to store record of students and their marks. Something like:\n",
        "_______\n"
      ],
      "metadata": {
        "id": "Xk_QDoG_YFiI"
      }
    },
    {
      "cell_type": "code",
      "source": [
        "data = {\n",
        "    2022: {\n",
        "        'Branch 1': [{'Roll Number': 1, 'Name': 'N', 'Marks': {'Maths': 100, 'English': 70}}],\n",
        "        'Branch 2': []},\n",
        "    2023: {\n",
        "        'Branch 1': [],\n",
        "        'Branch 2': [],\n",
        "    },\n",
        "    2024: {\n",
        "        'Branch 1': [],\n",
        "        'Branch 2': [],\n",
        "    },\n",
        "    2025: {\n",
        "        'Branch 1': [],\n",
        "        'Branch 2': [],\n",
        "    },\n",
        "}\n",
        "\n",
        "print(data)"
      ],
      "metadata": {
        "colab": {
          "base_uri": "https://localhost:8080/"
        },
        "id": "ggMRl4w3YNpc",
        "outputId": "23bb2482-45e7-4080-c446-6ccaf98da096"
      },
      "execution_count": 5,
      "outputs": [
        {
          "output_type": "stream",
          "name": "stdout",
          "text": [
            "{2022: {'Branch 1': [{'Roll Number': 1, 'Name': 'N', 'Marks': {'Maths': 100, 'English': 70}}], 'Branch 2': []}, 2023: {'Branch 1': [], 'Branch 2': []}, 2024: {'Branch 1': [], 'Branch 2': []}, 2025: {'Branch 1': [], 'Branch 2': []}}\n"
          ]
        }
      ]
    },
    {
      "cell_type": "markdown",
      "source": [
        "**8.** Store the same information using Python classes. We have an overall database which is a list of year objects. Each year contains a list of branches. Each branch contains a list of students. Each student has some properties like name, roll number and has marks in some subjects.\n",
        "\n",
        "______\n"
      ],
      "metadata": {
        "id": "Dfbk_YHNYQMK"
      }
    },
    {
      "cell_type": "code",
      "source": [
        "class Student:\n",
        "    def __init__(self, roll_number, name, marks):\n",
        "        self.roll_number = roll_number\n",
        "        self.name = name\n",
        "        self.marks = marks\n",
        "\n",
        "class Branch:\n",
        "    def __init__(self, name, students):\n",
        "        self.name = name\n",
        "        self.students = students\n",
        "\n",
        "class Year:\n",
        "    def __init__(self, year, branches):\n",
        "        self.year = year\n",
        "        self.branches = branches\n",
        "\n",
        "database = [\n",
        "    Year(2022, [\n",
        "        Branch('Branch 1', [\n",
        "            Student(1, 'N', {'Maths': 100, 'English': 70}),\n",
        "            Student(2, 'M', {'Maths': 85, 'Science': 101})\n",
        "        ]),\n",
        "        Branch('Branch 2', []),\n",
        "    ]),\n",
        "    Year(2023, [\n",
        "        Branch('Branch 1', []),\n",
        "        Branch('Branch 2', []),\n",
        "    ]),\n",
        "    Year(2024, [\n",
        "        Branch('Branch 1', []),\n",
        "        Branch('Branch 2', []),\n",
        "    ]),\n",
        "    Year(2025, [\n",
        "        Branch('Branch 1', []),\n",
        "        Branch('Branch 2', []),\n",
        "    ]),\n",
        "]\n",
        "\n",
        "print(database[0].branches[0].students[1].marks)"
      ],
      "metadata": {
        "colab": {
          "base_uri": "https://localhost:8080/"
        },
        "id": "wuS7DY-cYVOx",
        "outputId": "ab2220d6-d61f-407f-f7e9-895a01c6e960"
      },
      "execution_count": 6,
      "outputs": [
        {
          "output_type": "stream",
          "name": "stdout",
          "text": [
            "{'Maths': 85, 'Science': 101}\n"
          ]
        }
      ]
    },
    {
      "cell_type": "markdown",
      "source": [
        "**9.** Using matplotlib plot the following functions on the domain: x = 0.5 to 100.0 in steps of 0.5.\n",
        "_______\n"
      ],
      "metadata": {
        "id": "KI_S4w0pYVyb"
      }
    },
    {
      "cell_type": "code",
      "source": [
        "import matplotlib.pyplot as plt\n",
        "\n",
        "x = np.arange(0.5, 100.0, 0.5)\n",
        "\n",
        "y1 = x \n",
        "y2 = x**2\n",
        "y3 = (x**3)/100\n",
        "y4 = np.sin(x)\n",
        "y5 = np.sin(x)/x\n",
        "y6 = np.log(x)\n",
        "y7 = np.exp(x)\n",
        "\n",
        "fig, axs = plt.subplots(2, 4)\n",
        "\n",
        "axs[0,0].plot(x, y1)\n",
        "axs[0,0].set_title('y=x')\n",
        "axs[0,1].plot(x, y2)\n",
        "axs[0,1].set_title('y=x^2')\n",
        "axs[0,2].plot(x, y3)\n",
        "axs[0,2].set_title('y=x^3/100')\n",
        "axs[0,3].plot(x, y4)\n",
        "axs[0,3].set_title('y=sin(x)')\n",
        "axs[1,0].plot(x, y5)\n",
        "axs[1,0].set_title('y=sin(x)/x')\n",
        "axs[1,1].plot(x, y6)\n",
        "axs[1,1].set_title('y=log(x)')\n",
        "axs[1,2].plot(x, y7)\n",
        "axs[1,2].set_title('y=e^x')\n",
        "\n",
        "fig.set_figheight(6)\n",
        "fig.set_figwidth(12)\n",
        "fig.tight_layout()"
      ],
      "metadata": {
        "colab": {
          "base_uri": "https://localhost:8080/",
          "height": 441
        },
        "id": "G1B4l_epYcNP",
        "outputId": "472d0861-ca79-42ce-ba0b-8d7b4e5ac1ad"
      },
      "execution_count": 7,
      "outputs": [
        {
          "output_type": "display_data",
          "data": {
            "text/plain": [
              "<Figure size 864x432 with 8 Axes>"
            ],
            "image/png": "[encoded data removed]"
          },
          "metadata": {
            "needs_background": "light"
          }
        }
      ]
    },
    {
      "cell_type": "markdown",
      "source": [
        "**10.** Using numpy generate a matrix of size 20X5 containing random numbers drawn uniformly from the range of 1 to 2. Using Pandas create a dataframe out of this matrix. Name the columns of the dataframe as “a”, “b”, “c”, “d”, “e”. Find the column with the highest standard deviation. Find the row with the lowest mean.\n",
        "_____\n",
        "\n"
      ],
      "metadata": {
        "id": "juF8tqFcWIpx"
      }
    },
    {
      "cell_type": "code",
      "source": [
        "import pandas as pd\n",
        "\n",
        "matrix = np.random.uniform(1,2, size =(20,5))\n",
        "\n",
        "data = pd.DataFrame(matrix, columns = ['a','b','c','d','e'])\n",
        "\n",
        "highest_std_column = data.std().idxmax()\n",
        "lowest_mean_row = data.mean(axis=1).idxmin()\n",
        "\n",
        "print(data)\n",
        "print(\"column with highest standard deviation is:\", highest_std_column)\n",
        "print(\"row with lowest mean is:\", lowest_mean_row)"
      ],
      "metadata": {
        "id": "5vBcxkzGWIYS",
        "colab": {
          "base_uri": "https://localhost:8080/"
        },
        "outputId": "9bd57e6a-c444-486c-e168-63b59c6d1b6d"
      },
      "execution_count": 8,
      "outputs": [
        {
          "output_type": "stream",
          "name": "stdout",
          "text": [
            "           a         b         c         d         e\n",
            "0   1.181308  1.534958  1.230699  1.652625  1.680989\n",
            "1   1.557160  1.713504  1.934899  1.056022  1.210080\n",
            "2   1.964681  1.642497  1.562950  1.456833  1.790921\n",
            "3   1.810606  1.593529  1.690246  1.978768  1.136843\n",
            "4   1.417275  1.690856  1.404301  1.975611  1.839391\n",
            "5   1.669998  1.793677  1.129168  1.038017  1.555535\n",
            "6   1.508008  1.675953  1.435019  1.416335  1.724127\n",
            "7   1.207059  1.627419  1.658002  1.253294  1.408711\n",
            "8   1.771249  1.005246  1.820523  1.883600  1.865579\n",
            "9   1.072250  1.515024  1.558032  1.385245  1.179938\n",
            "10  1.535942  1.133329  1.813370  1.180267  1.090722\n",
            "11  1.414948  1.969748  1.278252  1.836493  1.139312\n",
            "12  1.345968  1.397537  1.559133  1.305000  1.668706\n",
            "13  1.124050  1.282544  1.231640  1.673575  1.692348\n",
            "14  1.022398  1.209493  1.890807  1.923155  1.432094\n",
            "15  1.942605  1.788939  1.743306  1.906076  1.195595\n",
            "16  1.646201  1.208622  1.099910  1.600427  1.400856\n",
            "17  1.143421  1.396374  1.444223  1.717401  1.558569\n",
            "18  1.243644  1.878279  1.675444  1.392590  1.421517\n",
            "19  1.424333  1.095156  1.002544  1.160915  1.701508\n",
            "column with highest standard deviation is: d\n",
            "row with lowest mean is: 19\n"
          ]
        }
      ]
    },
    {
      "cell_type": "markdown",
      "source": [
        "**11.** Add a new column to the dataframe called “f” which is the sum of the columns “a”, “b”, “c”, “d”, “e”. Create another column called “g”. The value in the column “g” should be “LT8” if the value in the column “f” is less than 8 and “GT8” otherwise. Find the number of rows in the dataframe where the value in the column “g” is “LT8”. Find the standard deviation of the column “f” for the rows where the value in the column “g” is “LT8” and “GT8” respectively.\n",
        "_______\n",
        "\n"
      ],
      "metadata": {
        "id": "z253Ji-dAMy1"
      }
    },
    {
      "cell_type": "code",
      "source": [
        "data['f'] = data[['a','b','c','d','e']].sum(axis=1)\n",
        "\n",
        "data['g'] = data['f'].apply(lambda x: \"LT8\" if x<8 else \"GT8\")\n",
        "\n",
        "print(data)\n",
        "\n",
        "num = data['g'].value_counts()[\"LT8\"]\n",
        "print(\"Number of rows in the dataframe where the value in the column “g” is “LT8”: \", num)\n",
        "\n",
        "stdv_lt8 = data.loc[data['g']==\"LT8\",'f'].std()\n",
        "stdv_gt8 = data.loc[data['g']==\"GT8\",'f'].std()\n",
        "print(\"Standard deviation of column 'f' where column 'g' is LT8: \", stdv_lt8)\n",
        "print(\"Standard deviation of column 'f' where column 'g' is GT8: \", stdv_gt8)"
      ],
      "metadata": {
        "colab": {
          "base_uri": "https://localhost:8080/"
        },
        "id": "zO38vl4lASSv",
        "outputId": "50716671-3a63-4591-a643-92a5d526eeb7"
      },
      "execution_count": 9,
      "outputs": [
        {
          "output_type": "stream",
          "name": "stdout",
          "text": [
            "           a         b         c         d         e         f    g\n",
            "0   1.181308  1.534958  1.230699  1.652625  1.680989  7.280578  LT8\n",
            "1   1.557160  1.713504  1.934899  1.056022  1.210080  7.471664  LT8\n",
            "2   1.964681  1.642497  1.562950  1.456833  1.790921  8.417883  GT8\n",
            "3   1.810606  1.593529  1.690246  1.978768  1.136843  8.209992  GT8\n",
            "4   1.417275  1.690856  1.404301  1.975611  1.839391  8.327433  GT8\n",
            "5   1.669998  1.793677  1.129168  1.038017  1.555535  7.186396  LT8\n",
            "6   1.508008  1.675953  1.435019  1.416335  1.724127  7.759442  LT8\n",
            "7   1.207059  1.627419  1.658002  1.253294  1.408711  7.154486  LT8\n",
            "8   1.771249  1.005246  1.820523  1.883600  1.865579  8.346197  GT8\n",
            "9   1.072250  1.515024  1.558032  1.385245  1.179938  6.710488  LT8\n",
            "10  1.535942  1.133329  1.813370  1.180267  1.090722  6.753629  LT8\n",
            "11  1.414948  1.969748  1.278252  1.836493  1.139312  7.638753  LT8\n",
            "12  1.345968  1.397537  1.559133  1.305000  1.668706  7.276344  LT8\n",
            "13  1.124050  1.282544  1.231640  1.673575  1.692348  7.004156  LT8\n",
            "14  1.022398  1.209493  1.890807  1.923155  1.432094  7.477946  LT8\n",
            "15  1.942605  1.788939  1.743306  1.906076  1.195595  8.576521  GT8\n",
            "16  1.646201  1.208622  1.099910  1.600427  1.400856  6.956016  LT8\n",
            "17  1.143421  1.396374  1.444223  1.717401  1.558569  7.259987  LT8\n",
            "18  1.243644  1.878279  1.675444  1.392590  1.421517  7.611474  LT8\n",
            "19  1.424333  1.095156  1.002544  1.160915  1.701508  6.384455  LT8\n",
            "Number of rows in the dataframe where the value in the column “g” is “LT8”:  15\n",
            "Standard deviation of column 'f' where column 'g' is LT8:  0.3822415075752896\n",
            "Standard deviation of column 'f' where column 'g' is GT8:  0.13487743011232167\n"
          ]
        }
      ]
    },
    {
      "cell_type": "markdown",
      "source": [
        "**12.** Write a small piece of code to explain broadcasting in numpy.\n",
        "____\n"
      ],
      "metadata": {
        "id": "woMwqupHC_nE"
      }
    },
    {
      "cell_type": "code",
      "source": [
        "x = [[1,2,3,4],[5,6,7,8],[9,1,2,3]]\n",
        "matrix=np.array(x)\n",
        "print(\"original matrix\")\n",
        "print(matrix)\n",
        "print(\"a single integer 5 is added in all elements of matrix\")\n",
        "print(matrix+5)\n",
        "y=np.array([10,20,30,40])\n",
        "print(\"a row is added with every row of matrix\")\n",
        "print(matrix+y)\n",
        "z=np.array([[100],[200],[300]])\n",
        "print(\"a column is added with every column of matrix\")\n",
        "print(matrix+z)"
      ],
      "metadata": {
        "id": "9HsPNh_NE-pV",
        "colab": {
          "base_uri": "https://localhost:8080/"
        },
        "outputId": "1f77962d-678b-4446-8fab-98a3975d2f7d"
      },
      "execution_count": 10,
      "outputs": [
        {
          "output_type": "stream",
          "name": "stdout",
          "text": [
            "original matrix\n",
            "[[1 2 3 4]\n",
            " [5 6 7 8]\n",
            " [9 1 2 3]]\n",
            "a single integer 5 is added in all elements of matrix\n",
            "[[ 6  7  8  9]\n",
            " [10 11 12 13]\n",
            " [14  6  7  8]]\n",
            "a row is added with every row of matrix\n",
            "[[11 22 33 44]\n",
            " [15 26 37 48]\n",
            " [19 21 32 43]]\n",
            "a column is added with every column of matrix\n",
            "[[101 102 103 104]\n",
            " [205 206 207 208]\n",
            " [309 301 302 303]]\n"
          ]
        }
      ]
    },
    {
      "cell_type": "markdown",
      "source": [
        "**13.** Write a function to compute the argmin of a numpy array. The function should take a numpy array as input and return the index of the minimum element. You can use the np.argmin function to verify your solution."
      ],
      "metadata": {
        "id": "gqRgDru9DEQM"
      }
    },
    {
      "cell_type": "code",
      "source": [
        "def argmin(A):\n",
        "  n=len(A)\n",
        "  temp = A[0]\n",
        "  index = 0\n",
        "  for i in range(n):\n",
        "    if(temp>A[i]):\n",
        "      temp = A[i]\n",
        "      index = i\n",
        "  \n",
        "  return index\n",
        "\n",
        "# x=[5,123,4,5,62,87,5,2,6,1,2,3,7]\n",
        "# print(argmin(x))\n",
        "# print(np.argmin(np.array(x)))\n",
        "\n",
        "n=20\n",
        "check=0\n",
        "for i in range(20):\n",
        "  x = [(random.randint(0,200)) for _ in range(n)]\n",
        "  print(x,np.argmin(x),argmin(x))\n",
        "  if(np.argmin(x) == argmin(x)):\n",
        "    check+=1\n",
        "\n",
        "if(check==20):\n",
        "  print(\"Argmin function is working correctly.\")\n",
        "else:\n",
        "  print(\"Argmin function is not working correctly.\")"
      ],
      "metadata": {
        "colab": {
          "base_uri": "https://localhost:8080/"
        },
        "id": "F4hghiGzGuoG",
        "outputId": "127b70b8-ca8f-4967-d6b2-8577da783176"
      },
      "execution_count": 12,
      "outputs": [
        {
          "output_type": "stream",
          "name": "stdout",
          "text": [
            "[61, 197, 177, 71, 55, 157, 125, 37, 39, 165, 65, 79, 170, 20, 177, 71, 24, 124, 37, 96] 13 13\n",
            "[90, 42, 110, 33, 149, 6, 126, 25, 186, 163, 157, 69, 49, 57, 53, 102, 129, 111, 51, 11] 5 5\n",
            "[195, 163, 196, 195, 133, 77, 69, 161, 166, 76, 118, 42, 175, 130, 43, 142, 23, 87, 119, 40] 16 16\n",
            "[181, 83, 31, 72, 144, 198, 86, 35, 57, 190, 10, 153, 182, 7, 103, 125, 1, 71, 195, 113] 16 16\n",
            "[197, 132, 88, 187, 42, 166, 147, 199, 145, 87, 77, 106, 170, 35, 16, 169, 146, 67, 27, 52] 14 14\n",
            "[34, 183, 22, 151, 80, 2, 101, 125, 9, 114, 143, 95, 37, 88, 115, 149, 170, 92, 133, 150] 5 5\n",
            "[84, 66, 95, 9, 174, 109, 191, 32, 25, 174, 131, 155, 73, 53, 89, 109, 64, 28, 75, 122] 3 3\n",
            "[1, 110, 71, 174, 124, 175, 103, 59, 193, 78, 31, 61, 179, 147, 91, 151, 30, 120, 78, 18] 0 0\n",
            "[25, 157, 16, 72, 162, 63, 45, 129, 0, 183, 5, 120, 82, 11, 8, 182, 158, 7, 52, 149] 8 8\n",
            "[90, 2, 73, 33, 77, 25, 23, 87, 189, 177, 29, 169, 155, 64, 126, 182, 85, 175, 118, 144] 1 1\n",
            "[163, 45, 141, 157, 56, 39, 10, 123, 159, 151, 160, 82, 77, 68, 107, 181, 89, 13, 53, 124] 6 6\n",
            "[198, 82, 87, 26, 118, 120, 9, 11, 37, 150, 182, 183, 12, 120, 9, 106, 125, 169, 38, 110] 6 6\n",
            "[21, 64, 71, 97, 142, 99, 181, 1, 179, 186, 62, 151, 95, 13, 38, 50, 94, 9, 30, 161] 7 7\n",
            "[79, 60, 129, 43, 165, 35, 146, 85, 94, 36, 140, 163, 163, 83, 0, 109, 113, 173, 101, 176] 14 14\n",
            "[85, 127, 63, 38, 178, 51, 166, 58, 77, 5, 77, 98, 71, 90, 29, 79, 126, 47, 121, 71] 9 9\n",
            "[100, 135, 199, 146, 82, 31, 106, 123, 99, 86, 160, 160, 147, 170, 10, 187, 8, 109, 100, 44] 16 16\n",
            "[77, 64, 92, 147, 156, 14, 190, 184, 33, 17, 23, 68, 19, 119, 108, 27, 14, 42, 45, 87] 5 5\n",
            "[156, 85, 157, 33, 191, 103, 2, 185, 129, 131, 136, 64, 72, 54, 107, 48, 162, 27, 132, 104] 6 6\n",
            "[108, 41, 39, 168, 39, 56, 36, 190, 190, 50, 195, 142, 32, 191, 65, 138, 154, 31, 21, 128] 18 18\n",
            "[53, 131, 26, 178, 90, 29, 77, 123, 32, 77, 76, 162, 145, 38, 9, 37, 66, 114, 0, 116] 18 18\n",
            "Argmin function is working correctly.\n"
          ]
        }
      ]
    }
  ]
}